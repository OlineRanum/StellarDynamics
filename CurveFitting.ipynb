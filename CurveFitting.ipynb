{
 "cells": [
  {
   "cell_type": "markdown",
   "metadata": {},
   "source": [
    "# Curve Fitting\n",
    "\n",
    "I realized at this point that I needed the solver in Python to use the scipy cure fitting packages, so I just rewrote it to python from the c++ code for the newtonian orbit"
   ]
  },
  {
   "cell_type": "code",
   "execution_count": 2,
   "metadata": {},
   "outputs": [],
   "source": [
    "import numpy as np\n",
    "import matplotlib.pyplot as plt"
   ]
  },
  {
   "cell_type": "code",
   "execution_count": 32,
   "metadata": {},
   "outputs": [],
   "source": [
    "N = int(10**7)\n",
    "t0 = 0; tf = 17;    \n",
    "h = (tf-t0)/N;\n",
    "\n",
    "x, y, z =  np.zeros(N), np.zeros(N), np.zeros(N)\n",
    "vx, vy, vz = np.zeros(N), np.zeros(N), np.zeros(N)\n",
    "a = np.zeros(N)\n",
    "\n",
    "x[0] = -1901.5;\n",
    "y[0] = -9;\n",
    "z[0] = 0;\n",
    "vz[0] = 0;\n",
    "vy[0] = 106.3; \n",
    "vx[0] = 1; "
   ]
  },
  {
   "cell_type": "code",
   "execution_count": 33,
   "metadata": {},
   "outputs": [],
   "source": [
    "def k_newtonian(r_i, h, r):\n",
    "    k1 = Newtonian(r)*r_i;\n",
    "    k2 = Newtonian(r + k1*h/2)*r_i;\n",
    "    k3 = Newtonian(r + k2*h/2)*r_i;\n",
    "    k4 = Newtonian(r + k3*h)*r_i;\n",
    "    return h*(k1+2*k2+2*k3+k4)/6;\n",
    "\n",
    "def Newtonian(r):\n",
    "    G = 4*np.pi**2\n",
    "    M_BH = 4.15*10**6;               \n",
    "    M_S = M_BH;\n",
    "    c = 63198;\n",
    "    return -G*M_S/(r*r*r);\n"
   ]
  },
  {
   "cell_type": "code",
   "execution_count": 34,
   "metadata": {},
   "outputs": [],
   "source": [
    "def RK4_Newtonian(x, y, z, vx , vy, vz, N,h, a):\n",
    "    G = 4*np.pi**2\n",
    "    M_BH = 4.15*10**6;                 \n",
    "    M_S = M_BH;\n",
    "    c = 63198;\n",
    "\n",
    "\n",
    "    r0 = np.sqrt(x[0]*x[0] + y[0]*y[0] + z[0]*z[0]);\n",
    "    a[0] = Newtonian(r0);\n",
    "\n",
    "    for i in range (1, N-1):\n",
    "        r = np.sqrt(x[i-1]*x[i-1] + y[i-1]*y[i-1] + z[i-1]*z[i-1]);\n",
    "        vx[i] = vx[i-1]+ k_newtonian(x[i-1], h, r);\n",
    "        vy[i] = vy[i-1]+ k_newtonian(y[i-1], h, r);\n",
    "        vz[i] = vz[i-1]+ k_newtonian(z[i-1], h, r);\n",
    "\n",
    "        x[i] = x[i-1] +h*vx[i];\n",
    "        y[i] = y[i-1] +h*vy[i];\n",
    "        z[i] = z[i-1] + h*vz[i];\n",
    "    \n",
    "    return x, y, z"
   ]
  },
  {
   "cell_type": "code",
   "execution_count": 35,
   "metadata": {},
   "outputs": [],
   "source": [
    "x_, y_, z_ = RK4_Newtonian(x, y, z, vx , vy, vz, N,h, a)"
   ]
  },
  {
   "cell_type": "code",
   "execution_count": 36,
   "metadata": {},
   "outputs": [
    {
     "data": {
      "text/plain": [
       "[<matplotlib.lines.Line2D at 0x7f069aa41438>]"
      ]
     },
     "execution_count": 36,
     "metadata": {},
     "output_type": "execute_result"
    },
    {
     "data": {
      "image/png": "[encoded data removed]",
      "text/plain": [
       "<Figure size 432x288 with 1 Axes>"
      ]
     },
     "metadata": {
      "needs_background": "light"
     },
     "output_type": "display_data"
    }
   ],
   "source": [
    "plt.plot(x_, y_)"
   ]
  },
  {
   "cell_type": "code",
   "execution_count": null,
   "metadata": {},
   "outputs": [],
   "source": []
  }
 ],
 "metadata": {
  "kernelspec": {
   "display_name": "Python 3",
   "language": "python",
   "name": "python3"
  },
  "language_info": {
   "codemirror_mode": {
    "name": "ipython",
    "version": 3
   },
   "file_extension": ".py",
   "mimetype": "text/x-python",
   "name": "python",
   "nbconvert_exporter": "python",
   "pygments_lexer": "ipython3",
   "version": "3.7.0"
  }
 },
 "nbformat": 4,
 "nbformat_minor": 4
}
