{
 "cells": [
  {
   "cell_type": "code",
   "execution_count": 10,
   "metadata": {},
   "outputs": [
    {
     "data": {
      "text/plain": [
       "[<matplotlib.lines.Line2D at 0x7f67930cbeb8>]"
      ]
     },
     "execution_count": 10,
     "metadata": {},
     "output_type": "execute_result"
    },
    {
     "data": {
      "image/png": "[encoded data removed]",
      "text/plain": [
       "<Figure size 432x288 with 1 Axes>"
      ]
     },
     "metadata": {
      "needs_background": "light"
     },
     "output_type": "display_data"
    }
   ],
   "source": [
    "import numpy as np \n",
    "import os\n",
    "import seaborn as sns\n",
    "import matplotlib.pyplot as plt\n",
    "\n",
    "mypathE                  = \"/home/oline/Documents/GRAPPA/ExtremeAstrophysics/Project/git/StellarDynamics/ODESolved.txt\"\n",
    "\n",
    "\n",
    "\n",
    "def read_files(path):  \n",
    "    \n",
    "    x, y, z = [],[],[]\n",
    "    vx, vy, vz = [],[],[]\n",
    "    t = []\n",
    "    \n",
    "    \n",
    "    with open(path, 'r') as infile:\n",
    "        lines = infile.readlines()[2:]\n",
    "        for line in lines:\n",
    "\n",
    "            line = line.split()\n",
    "            t.append(float(line[0]))\n",
    "            x.append(float(line[1]))\n",
    "            y.append(float(line[2]))\n",
    "            z.append(float(line[3]))\n",
    "            vx.append(float(line[4]))\n",
    "            vy.append(float(line[5]))\n",
    "            vz.append(float(line[6]))\n",
    "    \n",
    "    r = np.zeros((len(x), 3))\n",
    "    v = np.zeros((len(x), 3))\n",
    "    for i in range(len(x)):\n",
    "        r[i] = [x[i], y[i], z[i]]\n",
    "        v[i] = [vx[i], vy[i], vz[i]]\n",
    "        \n",
    "    return t, r, v\n",
    "\n",
    "tE, rE, vE = read_files(mypathE)\n",
    "plt.plot(rE[:,0],rE[:,1])"
   ]
  },
  {
   "cell_type": "code",
   "execution_count": 9,
   "metadata": {},
   "outputs": [
    {
     "name": "stdout",
     "output_type": "stream",
     "text": [
      "[]\n"
     ]
    }
   ],
   "source": [
    "print(rE)"
   ]
  },
  {
   "cell_type": "code",
   "execution_count": null,
   "metadata": {},
   "outputs": [],
   "source": []
  }
 ],
 "metadata": {
  "kernelspec": {
   "display_name": "Python 3",
   "language": "python",
   "name": "python3"
  },
  "language_info": {
   "codemirror_mode": {
    "name": "ipython",
    "version": 3
   },
   "file_extension": ".py",
   "mimetype": "text/x-python",
   "name": "python",
   "nbconvert_exporter": "python",
   "pygments_lexer": "ipython3",
   "version": "3.7.0"
  }
 },
 "nbformat": 4,
 "nbformat_minor": 4
}
