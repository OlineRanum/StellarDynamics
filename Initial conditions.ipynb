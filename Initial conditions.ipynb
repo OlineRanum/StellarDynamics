{
 "cells": [
  {
   "cell_type": "code",
   "execution_count": 193,
   "metadata": {},
   "outputs": [],
   "source": [
    "import numpy as np\n",
    "import matplotlib.pyplot as plt\n",
    "\n",
    "arc_sec_to_rad = 4.85*10**(-6)\n",
    "\n",
    "s2_ra = np.array([0.0386, 0.0385, 0.0393,\n",
    "0.0330,0.0333,0.0315,0.0265,\n",
    "0.0141,0.0137,0.0129,0.0107,\n",
    "0.0064,0.0058,0.0069,0.0047,\n",
    "-0.0076,-0.0082,-0.0084,-0.0118,\n",
    "-0.0126,-0.0127,-0.0216,-0.0218,\n",
    "-0.0233,-0.0266,-0.0249,-0.0260,\n",
    "-0.0347,-0.0340,-0.0430,-0.0518,\n",
    "-0.0603,-0.0690,])\n",
    "\n",
    "s2_dec = np.array([0.0213,\n",
    "0.0701,0.0733,0.1191,0.1206,\n",
    "0.1206,0.1389,0.1596,0.1609,\n",
    "0.1627,0.1633,0.1681,0.1682,\n",
    "0.1691,0.1709,0.1775,0.1780,\n",
    "0.1777,0.1798,0.1802,0.1806,\n",
    "0.1805,0.1813,0.1803,0.1800,\n",
    "0.1806,0.1804,0.1780,0.1774,\n",
    "0.1703,0.1617,0.1442,0.1010,])\n",
    "time = np.array([2002.578,\n",
    "2003.447,2003.455,2004.511,2004.516,2004.574,2005.268,\n",
    "2006.490,2006.584,2006.726,2006.800,\n",
    "2007.205,2007.214,2007.255,2007.455,\n",
    "2008.145,2008.197,2008.268,2008.456,\n",
    "2008.598,2008.708,2009.299,2009.334,\n",
    "2009.501,2009.605,2009.611,2009.715,\n",
    "2010.444,2010.455,2011.400,2012.374,\n",
    "2013.488,2015.581,])"
   ]
  },
  {
   "cell_type": "code",
   "execution_count": 194,
   "metadata": {},
   "outputs": [
    {
     "data": {
      "text/plain": [
       "22"
      ]
     },
     "execution_count": 194,
     "metadata": {},
     "output_type": "execute_result"
    }
   ],
   "source": [
    "np.argmax(s2_ra**2 + s2_dec**2)"
   ]
  },
  {
   "cell_type": "code",
   "execution_count": 197,
   "metadata": {},
   "outputs": [
    {
     "data": {
      "text/plain": [
       "(0.1, -0.3)"
      ]
     },
     "execution_count": 197,
     "metadata": {},
     "output_type": "execute_result"
    },
    {
     "data": {
      "image/png": "[encoded data removed]",
      "text/plain": [
       "<Figure size 432x288 with 1 Axes>"
      ]
     },
     "metadata": {
      "needs_background": "light"
     },
     "output_type": "display_data"
    }
   ],
   "source": [
    "plt.plot(s2_ra, s2_dec, '.')\n",
    "plt.plot(s2_ra[22], s2_dec[22], '.')\n",
    "plt.plot([0],[0], '.')\n",
    "plt.ylabel('Dec')\n",
    "plt.xlim([0.1,-0.3])"
   ]
  },
  {
   "cell_type": "code",
   "execution_count": 182,
   "metadata": {},
   "outputs": [
    {
     "name": "stdout",
     "output_type": "stream",
     "text": [
      "2009.334 2009.501\n"
     ]
    }
   ],
   "source": [
    "#Setting orbital parameter values\n",
    "e_s2 = 0.872\n",
    "a_s2 = 0.121*arc_sec_to_rad\n",
    "dist = 1.689*10**9 # AU\n",
    "\n",
    "Omega_s2 = 231.9*np.pi/180. #Converting to radian\n",
    "omega_s2 = 68.9*np.pi/180. #Converting to radian\n",
    "i_s2 = 138.1*np.pi/180. #Converting to radian\n",
    "\n",
    "RA = s2_ra[22]\n",
    "DEC = s2_dec[22]\n",
    "t1 = time[22]\n",
    "RA2 = s2_ra[23]\n",
    "DEC2 = s2_dec[23]\n",
    "t2 = time[23]\n",
    "\n",
    "print(t1, t2)"
   ]
  },
  {
   "cell_type": "code",
   "execution_count": 183,
   "metadata": {},
   "outputs": [
    {
     "data": {
      "text/plain": [
       "0.16699999999991633"
      ]
     },
     "execution_count": 183,
     "metadata": {},
     "output_type": "execute_result"
    }
   ],
   "source": [
    "delta_t = t2-t1\n",
    "delta_t"
   ]
  },
  {
   "cell_type": "code",
   "execution_count": 217,
   "metadata": {},
   "outputs": [],
   "source": [
    "def calc(DEC_, RA_):\n",
    "    rad_sky = np.arctan(DEC_/RA_)\n",
    "    rad = np.arctan(np.tan(rad_sky-Omega_s2)/np.cos(i_s2))-omega_s2\n",
    "    r_s2 = a_s2*(1-e_s2**2)/(1+e_s2*np.cos(rad))\n",
    "\n",
    "    x_s2 = r_s2*np.cos(rad)\n",
    "    y_s2 = r_s2*np.sin(rad)\n",
    "    \n",
    "    au_x = dist*x_s2\n",
    "    au_y = dist*y_s2 \n",
    "    return au_x, au_y\n"
   ]
  },
  {
   "cell_type": "code",
   "execution_count": 226,
   "metadata": {},
   "outputs": [
    {
     "data": {
      "text/plain": [
       "[<matplotlib.lines.Line2D at 0x7f3af7a90e10>]"
      ]
     },
     "execution_count": 226,
     "metadata": {},
     "output_type": "execute_result"
    },
    {
     "data": {
      "image/png": "[encoded data removed]",
      "text/plain": [
       "<Figure size 432x288 with 1 Axes>"
      ]
     },
     "metadata": {
      "needs_background": "light"
     },
     "output_type": "display_data"
    }
   ],
   "source": [
    "x_, y_ = [],[]\n",
    "for i in range(len(s2_ra)):\n",
    "    x, y = calc(s2_dec[i], s2_ra[i])\n",
    "    x_.append(x)\n",
    "    y_.append(y)\n",
    "\n",
    "\n",
    "plt.plot(x_,y_, '.')\n",
    "plt.plot([0],[0], '*')\n",
    "plt.plot(x_[22],y_[22], 'o')"
   ]
  },
  {
   "cell_type": "code",
   "execution_count": 227,
   "metadata": {},
   "outputs": [
    {
     "data": {
      "text/plain": [
       "860.2325267042627"
      ]
     },
     "execution_count": 227,
     "metadata": {},
     "output_type": "execute_result"
    }
   ],
   "source": [
    "np.sqrt(500**2+700**2)"
   ]
  },
  {
   "cell_type": "code",
   "execution_count": 228,
   "metadata": {},
   "outputs": [],
   "source": [
    "au_x1, au_y1 = calc(RA, DEC)\n",
    "au_x2, au_y2 = calc(RA2, DEC2)"
   ]
  },
  {
   "cell_type": "code",
   "execution_count": 229,
   "metadata": {},
   "outputs": [],
   "source": [
    "# Find velocity "
   ]
  },
  {
   "cell_type": "code",
   "execution_count": 230,
   "metadata": {},
   "outputs": [],
   "source": [
    "vx = (au_x1-au_x2)/delta_t\n",
    "vy = (au_y1-au_y2)/delta_t"
   ]
  },
  {
   "cell_type": "code",
   "execution_count": 231,
   "metadata": {},
   "outputs": [
    {
     "data": {
      "text/plain": [
       "126.76643881082241"
      ]
     },
     "execution_count": 231,
     "metadata": {},
     "output_type": "execute_result"
    }
   ],
   "source": [
    "au_x1"
   ]
  },
  {
   "cell_type": "code",
   "execution_count": 232,
   "metadata": {},
   "outputs": [
    {
     "data": {
      "text/plain": [
       "-7.09017897239799"
      ]
     },
     "execution_count": 232,
     "metadata": {},
     "output_type": "execute_result"
    }
   ],
   "source": [
    "au_y1"
   ]
  },
  {
   "cell_type": "code",
   "execution_count": 233,
   "metadata": {},
   "outputs": [
    {
     "data": {
      "text/plain": [
       "-0.1581746565539776"
      ]
     },
     "execution_count": 233,
     "metadata": {},
     "output_type": "execute_result"
    }
   ],
   "source": [
    "vx"
   ]
  },
  {
   "cell_type": "code",
   "execution_count": 234,
   "metadata": {},
   "outputs": [
    {
     "data": {
      "text/plain": [
       "-5.677629195494182"
      ]
     },
     "execution_count": 234,
     "metadata": {},
     "output_type": "execute_result"
    }
   ],
   "source": [
    "vy"
   ]
  },
  {
   "cell_type": "code",
   "execution_count": null,
   "metadata": {},
   "outputs": [],
   "source": []
  },
  {
   "cell_type": "code",
   "execution_count": null,
   "metadata": {},
   "outputs": [],
   "source": []
  }
 ],
 "metadata": {
  "kernelspec": {
   "display_name": "Python 3",
   "language": "python",
   "name": "python3"
  },
  "language_info": {
   "codemirror_mode": {
    "name": "ipython",
    "version": 3
   },
   "file_extension": ".py",
   "mimetype": "text/x-python",
   "name": "python",
   "nbconvert_exporter": "python",
   "pygments_lexer": "ipython3",
   "version": "3.7.0"
  }
 },
 "nbformat": 4,
 "nbformat_minor": 4
}
